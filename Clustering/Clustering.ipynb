{
 "cells": [
  {
   "cell_type": "markdown",
   "metadata": {},
   "source": [
    "Imports"
   ]
  },
  {
   "cell_type": "code",
   "execution_count": 1,
   "metadata": {},
   "outputs": [
    {
     "name": "stderr",
     "output_type": "stream",
     "text": [
      "* Owlready2 * Warning: optimized Cython parser module 'owlready2_optimized' is not available, defaulting to slower Python implementation\n"
     ]
    }
   ],
   "source": [
    "import pandas as pd\n",
    "import numpy as np\n",
    "import matplotlib.pyplot as plt\n",
    "import random\n",
    "\n",
    "import rdflib\n",
    "from rdflib import Graph, Literal, Namespace, RDF, URIRef, OWL\n",
    "from rdflib.extras.external_graph_libs import rdflib_to_networkx_digraph\n",
    "from rdflib.namespace import DC, FOAF\n",
    "\n",
    "from owlready2 import *\n",
    "from owlready2 import get_ontology\n",
    "\n",
    "from sklearn.model_selection import train_test_split\n",
    "\n",
    "import networkx as nx\n",
    "import networkx.algorithms.community as nx_comm\n",
    "\n",
    "random.seed(10)"
   ]
  },
  {
   "cell_type": "markdown",
   "metadata": {},
   "source": [
    "Loading the original data"
   ]
  },
  {
   "cell_type": "code",
   "execution_count": 2,
   "metadata": {},
   "outputs": [],
   "source": [
    "data = pd.read_excel('opioid_data_merged_min.xlsx')"
   ]
  },
  {
   "cell_type": "code",
   "execution_count": 3,
   "metadata": {},
   "outputs": [
    {
     "data": {
      "text/html": [
       "<div>\n",
       "<style scoped>\n",
       "    .dataframe tbody tr th:only-of-type {\n",
       "        vertical-align: middle;\n",
       "    }\n",
       "\n",
       "    .dataframe tbody tr th {\n",
       "        vertical-align: top;\n",
       "    }\n",
       "\n",
       "    .dataframe thead th {\n",
       "        text-align: right;\n",
       "    }\n",
       "</style>\n",
       "<table border=\"1\" class=\"dataframe\">\n",
       "  <thead>\n",
       "    <tr style=\"text-align: right;\">\n",
       "      <th></th>\n",
       "      <th>WorldwideUniqueCaseIdentification</th>\n",
       "      <th>sex</th>\n",
       "      <th>Outcome</th>\n",
       "      <th>ATCode</th>\n",
       "      <th>PTCode</th>\n",
       "      <th>Frequency</th>\n",
       "      <th>age_group</th>\n",
       "      <th>weight_group</th>\n",
       "      <th>is_sideeffect</th>\n",
       "    </tr>\n",
       "  </thead>\n",
       "  <tbody>\n",
       "    <tr>\n",
       "      <th>0</th>\n",
       "      <td>NL-002147023-NVSC2020NL143475</td>\n",
       "      <td>female</td>\n",
       "      <td>Recovered with sequelae</td>\n",
       "      <td>N02AX02</td>\n",
       "      <td>10012218</td>\n",
       "      <td>0.1</td>\n",
       "      <td>(64.0, 90.0]</td>\n",
       "      <td>overweight</td>\n",
       "      <td>True</td>\n",
       "    </tr>\n",
       "    <tr>\n",
       "      <th>1</th>\n",
       "      <td>NL-002147023-NVSC2020NL143475</td>\n",
       "      <td>female</td>\n",
       "      <td>Recovered with sequelae</td>\n",
       "      <td>N02AX02</td>\n",
       "      <td>10075611</td>\n",
       "      <td>0.0</td>\n",
       "      <td>(64.0, 90.0]</td>\n",
       "      <td>overweight</td>\n",
       "      <td>False</td>\n",
       "    </tr>\n",
       "    <tr>\n",
       "      <th>2</th>\n",
       "      <td>NL-002147023-NVSC2020NL223553</td>\n",
       "      <td>female</td>\n",
       "      <td>Recovered</td>\n",
       "      <td>N02AX02</td>\n",
       "      <td>10076493</td>\n",
       "      <td>0.0</td>\n",
       "      <td>(64.0, 90.0]</td>\n",
       "      <td>overweight</td>\n",
       "      <td>False</td>\n",
       "    </tr>\n",
       "    <tr>\n",
       "      <th>3</th>\n",
       "      <td>NL-002147023-NVSC2020NL223553</td>\n",
       "      <td>female</td>\n",
       "      <td>Recovered</td>\n",
       "      <td>N02AX02</td>\n",
       "      <td>10009839</td>\n",
       "      <td>0.0</td>\n",
       "      <td>(64.0, 90.0]</td>\n",
       "      <td>overweight</td>\n",
       "      <td>False</td>\n",
       "    </tr>\n",
       "    <tr>\n",
       "      <th>4</th>\n",
       "      <td>NL-002147023-NVSC2020NL223553</td>\n",
       "      <td>female</td>\n",
       "      <td>Recovered</td>\n",
       "      <td>N02AX02</td>\n",
       "      <td>10009839</td>\n",
       "      <td>0.0</td>\n",
       "      <td>(64.0, 90.0]</td>\n",
       "      <td>overweight</td>\n",
       "      <td>False</td>\n",
       "    </tr>\n",
       "    <tr>\n",
       "      <th>...</th>\n",
       "      <td>...</td>\n",
       "      <td>...</td>\n",
       "      <td>...</td>\n",
       "      <td>...</td>\n",
       "      <td>...</td>\n",
       "      <td>...</td>\n",
       "      <td>...</td>\n",
       "      <td>...</td>\n",
       "      <td>...</td>\n",
       "    </tr>\n",
       "    <tr>\n",
       "      <th>6192</th>\n",
       "      <td>NL-TEVA-719924ROM</td>\n",
       "      <td>male</td>\n",
       "      <td>Recovered</td>\n",
       "      <td>N02AA05</td>\n",
       "      <td>10037660</td>\n",
       "      <td>0.0</td>\n",
       "      <td>(64.0, 90.0]</td>\n",
       "      <td>normal</td>\n",
       "      <td>False</td>\n",
       "    </tr>\n",
       "    <tr>\n",
       "      <th>6193</th>\n",
       "      <td>NL-TEVA-719924ROM</td>\n",
       "      <td>male</td>\n",
       "      <td>Recovered</td>\n",
       "      <td>N02AA05</td>\n",
       "      <td>10062352</td>\n",
       "      <td>0.0</td>\n",
       "      <td>(64.0, 90.0]</td>\n",
       "      <td>normal</td>\n",
       "      <td>False</td>\n",
       "    </tr>\n",
       "    <tr>\n",
       "      <th>6194</th>\n",
       "      <td>NL-TEVA-719924ROM</td>\n",
       "      <td>male</td>\n",
       "      <td>Recovered</td>\n",
       "      <td>N02AA05</td>\n",
       "      <td>10006002</td>\n",
       "      <td>0.0</td>\n",
       "      <td>(64.0, 90.0]</td>\n",
       "      <td>normal</td>\n",
       "      <td>False</td>\n",
       "    </tr>\n",
       "    <tr>\n",
       "      <th>6195</th>\n",
       "      <td>NL-TEVA-719924ROM</td>\n",
       "      <td>male</td>\n",
       "      <td>Recovered</td>\n",
       "      <td>N02AA05</td>\n",
       "      <td>10046571</td>\n",
       "      <td>0.0</td>\n",
       "      <td>(64.0, 90.0]</td>\n",
       "      <td>normal</td>\n",
       "      <td>False</td>\n",
       "    </tr>\n",
       "    <tr>\n",
       "      <th>6196</th>\n",
       "      <td>NL-TEVA-719924ROM</td>\n",
       "      <td>male</td>\n",
       "      <td>Recovered</td>\n",
       "      <td>N02AA05</td>\n",
       "      <td>10062352</td>\n",
       "      <td>0.0</td>\n",
       "      <td>(64.0, 90.0]</td>\n",
       "      <td>normal</td>\n",
       "      <td>False</td>\n",
       "    </tr>\n",
       "  </tbody>\n",
       "</table>\n",
       "<p>6197 rows × 9 columns</p>\n",
       "</div>"
      ],
      "text/plain": [
       "     WorldwideUniqueCaseIdentification     sex                  Outcome  \\\n",
       "0        NL-002147023-NVSC2020NL143475  female  Recovered with sequelae   \n",
       "1        NL-002147023-NVSC2020NL143475  female  Recovered with sequelae   \n",
       "2        NL-002147023-NVSC2020NL223553  female                Recovered   \n",
       "3        NL-002147023-NVSC2020NL223553  female                Recovered   \n",
       "4        NL-002147023-NVSC2020NL223553  female                Recovered   \n",
       "...                                ...     ...                      ...   \n",
       "6192                 NL-TEVA-719924ROM    male                Recovered   \n",
       "6193                 NL-TEVA-719924ROM    male                Recovered   \n",
       "6194                 NL-TEVA-719924ROM    male                Recovered   \n",
       "6195                 NL-TEVA-719924ROM    male                Recovered   \n",
       "6196                 NL-TEVA-719924ROM    male                Recovered   \n",
       "\n",
       "       ATCode    PTCode  Frequency     age_group weight_group  is_sideeffect  \n",
       "0     N02AX02  10012218        0.1  (64.0, 90.0]   overweight           True  \n",
       "1     N02AX02  10075611        0.0  (64.0, 90.0]   overweight          False  \n",
       "2     N02AX02  10076493        0.0  (64.0, 90.0]   overweight          False  \n",
       "3     N02AX02  10009839        0.0  (64.0, 90.0]   overweight          False  \n",
       "4     N02AX02  10009839        0.0  (64.0, 90.0]   overweight          False  \n",
       "...       ...       ...        ...           ...          ...            ...  \n",
       "6192  N02AA05  10037660        0.0  (64.0, 90.0]       normal          False  \n",
       "6193  N02AA05  10062352        0.0  (64.0, 90.0]       normal          False  \n",
       "6194  N02AA05  10006002        0.0  (64.0, 90.0]       normal          False  \n",
       "6195  N02AA05  10046571        0.0  (64.0, 90.0]       normal          False  \n",
       "6196  N02AA05  10062352        0.0  (64.0, 90.0]       normal          False  \n",
       "\n",
       "[6197 rows x 9 columns]"
      ]
     },
     "execution_count": 3,
     "metadata": {},
     "output_type": "execute_result"
    }
   ],
   "source": [
    "data"
   ]
  },
  {
   "cell_type": "code",
   "execution_count": 4,
   "metadata": {},
   "outputs": [],
   "source": [
    "data['WorldwideUniqueCaseIdentification'] = data.WorldwideUniqueCaseIdentification.astype(str)\n",
    "data['age_group'] = data.age_group.astype(str)\n",
    "data['PTCode'] = data.PTCode.astype(str)"
   ]
  },
  {
   "cell_type": "code",
   "execution_count": 6,
   "metadata": {},
   "outputs": [],
   "source": [
    "triples = []\n",
    "for _, row in data.iterrows():\n",
    "        \n",
    "    # Weight group info\n",
    "    weight_group = (row['WorldwideUniqueCaseIdentification'], \"hasWeightGroup\", row['weight_group'])\n",
    "\n",
    "    # Age group info\n",
    "    age_group = (row['WorldwideUniqueCaseIdentification'], \"hasAgeGroup\", row['age_group'])\n",
    "\n",
    "    # Gender info\n",
    "    sex = (row['WorldwideUniqueCaseIdentification'], \"hasGender\", row['sex'])\n",
    "\n",
    "    #Outcome\n",
    "    outcome = (row['WorldwideUniqueCaseIdentification'], \"hasOutcome\", row['Outcome'])\n",
    "\n",
    "    #Symptom\n",
    "    symptom = (row['WorldwideUniqueCaseIdentification'], \"hasSymptom\", row['PTCode'])\n",
    "\n",
    "    #Drug\n",
    "    drug = (row['WorldwideUniqueCaseIdentification'], \"isGivenDrug\", row['ATCode'])\n",
    "\n",
    "    #Frequency\n",
    "    frequency = (row['PTCode'], \"hasFrequency\", row['Frequency'])    \n",
    "    \n",
    "    #Side effect\n",
    "    if row['is_sideeffect'] == True:\n",
    "        side_effect = (row['WorldwideUniqueCaseIdentification'], \"hasSideEffect\", row['PTCode'])\n",
    "    else:\n",
    "        side_effect = (row['WorldwideUniqueCaseIdentification'], \"hasSideEffect\", \"None\")\n",
    "\n",
    "    triples.extend((weight_group, age_group, sex, outcome, symptom, drug, frequency, side_effect))"
   ]
  },
  {
   "cell_type": "code",
   "execution_count": 7,
   "metadata": {},
   "outputs": [
    {
     "data": {
      "text/html": [
       "<div>\n",
       "<style scoped>\n",
       "    .dataframe tbody tr th:only-of-type {\n",
       "        vertical-align: middle;\n",
       "    }\n",
       "\n",
       "    .dataframe tbody tr th {\n",
       "        vertical-align: top;\n",
       "    }\n",
       "\n",
       "    .dataframe thead th {\n",
       "        text-align: right;\n",
       "    }\n",
       "</style>\n",
       "<table border=\"1\" class=\"dataframe\">\n",
       "  <thead>\n",
       "    <tr style=\"text-align: right;\">\n",
       "      <th></th>\n",
       "      <th>subject</th>\n",
       "      <th>predicate</th>\n",
       "      <th>object</th>\n",
       "    </tr>\n",
       "  </thead>\n",
       "  <tbody>\n",
       "    <tr>\n",
       "      <th>49520</th>\n",
       "      <td>NL-TEVA-719924ROM</td>\n",
       "      <td>hasWeightGroup</td>\n",
       "      <td>normal</td>\n",
       "    </tr>\n",
       "    <tr>\n",
       "      <th>49521</th>\n",
       "      <td>NL-TEVA-719924ROM</td>\n",
       "      <td>hasAgeGroup</td>\n",
       "      <td>(64.0, 90.0]</td>\n",
       "    </tr>\n",
       "    <tr>\n",
       "      <th>49522</th>\n",
       "      <td>NL-TEVA-719924ROM</td>\n",
       "      <td>hasGender</td>\n",
       "      <td>male</td>\n",
       "    </tr>\n",
       "    <tr>\n",
       "      <th>49523</th>\n",
       "      <td>NL-TEVA-719924ROM</td>\n",
       "      <td>hasOutcome</td>\n",
       "      <td>Recovered</td>\n",
       "    </tr>\n",
       "    <tr>\n",
       "      <th>49524</th>\n",
       "      <td>NL-TEVA-719924ROM</td>\n",
       "      <td>hasSymptom</td>\n",
       "      <td>10046571</td>\n",
       "    </tr>\n",
       "    <tr>\n",
       "      <th>49525</th>\n",
       "      <td>NL-TEVA-719924ROM</td>\n",
       "      <td>isGivenDrug</td>\n",
       "      <td>N02AA05</td>\n",
       "    </tr>\n",
       "    <tr>\n",
       "      <th>49527</th>\n",
       "      <td>NL-TEVA-719924ROM</td>\n",
       "      <td>hasSideEffect</td>\n",
       "      <td>None</td>\n",
       "    </tr>\n",
       "    <tr>\n",
       "      <th>49532</th>\n",
       "      <td>NL-TEVA-719924ROM</td>\n",
       "      <td>hasSymptom</td>\n",
       "      <td>10047700</td>\n",
       "    </tr>\n",
       "    <tr>\n",
       "      <th>49540</th>\n",
       "      <td>NL-TEVA-719924ROM</td>\n",
       "      <td>hasSymptom</td>\n",
       "      <td>10037660</td>\n",
       "    </tr>\n",
       "    <tr>\n",
       "      <th>49548</th>\n",
       "      <td>NL-TEVA-719924ROM</td>\n",
       "      <td>hasSymptom</td>\n",
       "      <td>10062352</td>\n",
       "    </tr>\n",
       "    <tr>\n",
       "      <th>49556</th>\n",
       "      <td>NL-TEVA-719924ROM</td>\n",
       "      <td>hasSymptom</td>\n",
       "      <td>10006002</td>\n",
       "    </tr>\n",
       "  </tbody>\n",
       "</table>\n",
       "</div>"
      ],
      "text/plain": [
       "                 subject       predicate        object\n",
       "49520  NL-TEVA-719924ROM  hasWeightGroup        normal\n",
       "49521  NL-TEVA-719924ROM     hasAgeGroup  (64.0, 90.0]\n",
       "49522  NL-TEVA-719924ROM       hasGender          male\n",
       "49523  NL-TEVA-719924ROM      hasOutcome     Recovered\n",
       "49524  NL-TEVA-719924ROM      hasSymptom      10046571\n",
       "49525  NL-TEVA-719924ROM     isGivenDrug       N02AA05\n",
       "49527  NL-TEVA-719924ROM   hasSideEffect          None\n",
       "49532  NL-TEVA-719924ROM      hasSymptom      10047700\n",
       "49540  NL-TEVA-719924ROM      hasSymptom      10037660\n",
       "49548  NL-TEVA-719924ROM      hasSymptom      10062352\n",
       "49556  NL-TEVA-719924ROM      hasSymptom      10006002"
      ]
     },
     "execution_count": 7,
     "metadata": {},
     "output_type": "execute_result"
    }
   ],
   "source": [
    "triples_df = pd.DataFrame(triples, columns=[\"subject\", \"predicate\", \"object\"])\n",
    "triples_df = triples_df.drop_duplicates()\n",
    "triples_df[(triples_df.subject==\"NL-TEVA-719924ROM\")]"
   ]
  },
  {
   "cell_type": "code",
   "execution_count": 8,
   "metadata": {},
   "outputs": [],
   "source": [
    "from ampligraph.evaluation import train_test_split_no_unseen\n",
    "\n",
    "X_train, X_test = train_test_split_no_unseen(np.array(triples), test_size=7930)"
   ]
  },
  {
   "cell_type": "code",
   "execution_count": 9,
   "metadata": {},
   "outputs": [
    {
     "name": "stdout",
     "output_type": "stream",
     "text": [
      "Train set size:  (41646, 3)\n",
      "Test set size:  (7930, 3)\n"
     ]
    }
   ],
   "source": [
    "print('Train set size: ', X_train.shape)\n",
    "print('Test set size: ', X_test.shape)"
   ]
  },
  {
   "cell_type": "code",
   "execution_count": 13,
   "metadata": {},
   "outputs": [],
   "source": [
    "from ampligraph.latent_features.models import ScoringBasedEmbeddingModel\n",
    "    \n",
    "# Initialize a ComplEx neural embedding model: the embedding size is k,\n",
    "# eta specifies the number of corruptions to generate per each positive,\n",
    "# scoring_type determines the scoring function of the embedding model.\n",
    "model = ScoringBasedEmbeddingModel(k=150,\n",
    "                                   eta=10,\n",
    "                                   scoring_type='ComplEx')"
   ]
  },
  {
   "cell_type": "code",
   "execution_count": 14,
   "metadata": {},
   "outputs": [],
   "source": [
    "import tensorflow as tf\n",
    "\n",
    "from ampligraph.latent_features.loss_functions import get as get_loss\n",
    "from ampligraph.latent_features.regularizers import get as get_regularizer\n",
    "\n",
    "# Optimizer, loss and regularizer definition\n",
    "optim = tf.keras.optimizers.Adam(learning_rate=1e-3)\n",
    "loss = get_loss('pairwise', {'margin': 0.5})\n",
    "regularizer = get_regularizer('LP', {'p': 2, 'lambda': 1e-5})\n",
    "\n",
    "# Compilation of the model\n",
    "model.compile(loss=loss,\n",
    "              optimizer='adam',\n",
    "              entity_relation_regularizer=regularizer,\n",
    "              entity_relation_initializer='glorot_uniform')"
   ]
  },
  {
   "cell_type": "code",
   "execution_count": 16,
   "metadata": {},
   "outputs": [
    {
     "name": "stdout",
     "output_type": "stream",
     "text": [
      "Epoch 1/10\n",
      "12/12 [==============================] - 8s 638ms/step - loss: 19050.1309\n",
      "Epoch 2/10\n",
      "12/12 [==============================] - 4s 352ms/step - loss: 18903.1328\n",
      "Epoch 3/10\n",
      "12/12 [==============================] - 4s 342ms/step - loss: 18761.3281\n",
      "Epoch 4/10\n",
      "12/12 [==============================] - 4s 319ms/step - loss: 18552.4648\n",
      "Epoch 5/10\n",
      "12/12 [==============================] - 4s 324ms/step - loss: 18219.4219\n",
      "Epoch 6/10\n",
      "12/12 [==============================] - 4s 330ms/step - loss: 17693.5527\n",
      "Epoch 7/10\n",
      "12/12 [==============================] - 4s 329ms/step - loss: 16896.6758\n",
      "Epoch 8/10\n",
      "12/12 [==============================] - 4s 335ms/step - loss: 15861.4141\n",
      "Epoch 9/10\n",
      "12/12 [==============================] - 4s 339ms/step - loss: 14791.6504\n",
      "Epoch 10/10\n",
      "12/12 [==============================] - 4s 337ms/step - loss: 13807.3398\n"
     ]
    },
    {
     "data": {
      "text/plain": [
       "<tensorflow.python.keras.callbacks.History at 0x243e2a2a920>"
      ]
     },
     "execution_count": 16,
     "metadata": {},
     "output_type": "execute_result"
    }
   ],
   "source": [
    "# Fit the model on training and validation set\n",
    "model.fit(X_train,\n",
    "          batch_size=int(X_train.shape[0] / 10), # use 1/10 of the training set as batch size\n",
    "          epochs=10,                    # Number of training epochs\n",
    "          verbose=True                  # Enable stdout messages\n",
    "          )"
   ]
  },
  {
   "cell_type": "code",
   "execution_count": 17,
   "metadata": {},
   "outputs": [],
   "source": [
    "filter = {'test': np.concatenate([X_train, X_test])}"
   ]
  },
  {
   "cell_type": "code",
   "execution_count": 18,
   "metadata": {},
   "outputs": [
    {
     "name": "stdout",
     "output_type": "stream",
     "text": [
      "249/249 [==============================] - 48s 193ms/step\n"
     ]
    }
   ],
   "source": [
    "ranks = model.evaluate(X_test,\n",
    "                       use_filter=filter,\n",
    "                       corrupt_side='s,o',\n",
    "                       verbose=True)"
   ]
  },
  {
   "cell_type": "code",
   "execution_count": 19,
   "metadata": {},
   "outputs": [
    {
     "name": "stdout",
     "output_type": "stream",
     "text": [
      "MRR: 0.59\n",
      "MR: 149.58\n",
      "Hits@10: 0.65\n",
      "Hits@3: 0.60\n",
      "Hits@1: 0.55\n"
     ]
    }
   ],
   "source": [
    "from ampligraph.evaluation import mr_score, mrr_score, hits_at_n_score\n",
    "\n",
    "mr = mr_score(ranks)\n",
    "mrr = mrr_score(ranks)\n",
    "\n",
    "print(\"MRR: %.2f\" % (mrr))\n",
    "print(\"MR: %.2f\" % (mr))\n",
    "\n",
    "hits_10 = hits_at_n_score(ranks, n=10)\n",
    "print(\"Hits@10: %.2f\" % (hits_10))\n",
    "hits_3 = hits_at_n_score(ranks, n=3)\n",
    "print(\"Hits@3: %.2f\" % (hits_3))\n",
    "hits_1 = hits_at_n_score(ranks, n=1)\n",
    "print(\"Hits@1: %.2f\" % (hits_1))"
   ]
  },
  {
   "cell_type": "code",
   "execution_count": 20,
   "metadata": {},
   "outputs": [],
   "source": [
    "from sklearn.decomposition import PCA\n",
    "import matplotlib.pyplot as plt\n",
    "import seaborn as sns\n",
    "from adjustText import adjust_text\n",
    "%matplotlib inline"
   ]
  },
  {
   "cell_type": "code",
   "execution_count": 21,
   "metadata": {},
   "outputs": [],
   "source": [
    "patients = data.WorldwideUniqueCaseIdentification.unique()\n",
    "patient_embeddings = dict(zip(patients, model.get_embeddings(patients)))"
   ]
  },
  {
   "cell_type": "code",
   "execution_count": null,
   "metadata": {},
   "outputs": [],
   "source": [
    "len(patient)"
   ]
  },
  {
   "cell_type": "code",
   "execution_count": 22,
   "metadata": {},
   "outputs": [],
   "source": [
    "embeddings_2d = PCA(n_components=2).fit_transform(np.array([i for i in patient_embeddings.values()]))"
   ]
  },
  {
   "cell_type": "code",
   "execution_count": 25,
   "metadata": {},
   "outputs": [
    {
     "name": "stdout",
     "output_type": "stream",
     "text": [
      "1584\n",
      "1584\n"
     ]
    }
   ],
   "source": [
    "from sklearn.cluster import KMeans\n",
    "from ampligraph.discovery import find_clusters\n",
    "\n",
    "clustering_algorithm = KMeans(n_clusters=6, n_init=50, max_iter=500, random_state=0)\n",
    "clusters = find_clusters(patients, model, clustering_algorithm, mode='e')\n",
    "\n",
    "print(len(clusters))\n",
    "print(len(patients))"
   ]
  },
  {
   "cell_type": "code",
   "execution_count": null,
   "metadata": {},
   "outputs": [],
   "source": [
    "plot_df = pd.DataFrame({\"patients\": patients, \n",
    "                        \"embedding1\": embeddings_2d[:, 0], \n",
    "                        \"embedding2\": embeddings_2d[:, 1],\n",
    "                        \"cluster\": \"cluster\" + pd.Series(clusters).astype(str)})"
   ]
  },
  {
   "cell_type": "code",
   "execution_count": null,
   "metadata": {},
   "outputs": [],
   "source": [
    "# Plot 2D embeddings\n",
    "def plot_clusters(hue):\n",
    "    plt.figure(figsize=(12, 12))\n",
    "    plt.title(\"{} embeddings\".format(hue).capitalize())\n",
    "    ax = sns.scatterplot(data=plot_df,\n",
    "                         x=\"embedding1\", y=\"embedding2\", hue=hue)\n",
    "    texts = []\n",
    "    adjust_text(texts)"
   ]
  },
  {
   "cell_type": "code",
   "execution_count": null,
   "metadata": {},
   "outputs": [],
   "source": [
    "plot_clusters(\"cluster\")"
   ]
  }
 ],
 "metadata": {
  "kernelspec": {
   "display_name": "Python 3.9.7 ('base')",
   "language": "python",
   "name": "python3"
  },
  "language_info": {
   "codemirror_mode": {
    "name": "ipython",
    "version": 3
   },
   "file_extension": ".py",
   "mimetype": "text/x-python",
   "name": "python",
   "nbconvert_exporter": "python",
   "pygments_lexer": "ipython3",
   "version": "3.10.7"
  },
  "orig_nbformat": 4,
  "vscode": {
   "interpreter": {
    "hash": "40d3a090f54c6569ab1632332b64b2c03c39dcf918b08424e98f38b5ae0af88f"
   }
  }
 },
 "nbformat": 4,
 "nbformat_minor": 2
}
