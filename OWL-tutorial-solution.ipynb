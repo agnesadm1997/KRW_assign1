{
 "cells": [
  {
   "cell_type": "markdown",
   "metadata": {},
   "source": [
    "# OWL tutorial"
   ]
  },
  {
   "cell_type": "markdown",
   "metadata": {},
   "source": [
    "First install owlready2 if you don't already have it, and have a quick look at the [documentation](https://owlready2.readthedocs.io/en/v0.36/onto.html#)."
   ]
  },
  {
   "cell_type": "code",
   "execution_count": 4,
   "metadata": {},
   "outputs": [
    {
     "name": "stderr",
     "output_type": "stream",
     "text": [
      "* Owlready2 * Warning: optimized Cython parser module 'owlready2_optimized' is not available, defaulting to slower Python implementation\n"
     ]
    }
   ],
   "source": [
    "## Uncomment if you do not have owlrl installed (you should have it installed from the RDFS tutorial)\n",
    "#import sys\n",
    "#!{sys.executable} -m pip install rdflib  owlready2 pandas\n",
    "\n",
    "import pandas as pd\n",
    "from rdflib import Graph, Literal, Namespace, RDF, URIRef, OWL\n",
    "from rdflib.namespace import DC, FOAF\n",
    "\n",
    "from owlready2 import *\n"
   ]
  },
  {
   "cell_type": "markdown",
   "metadata": {},
   "source": [
    "Let's start loading some data from a .CSV file. We are going to create an ontology that describes the data inside.\n",
    "We already did part of this using the semantics of RDF(S), now we'll use the semantics of [OWL](https://www.w3.org/TR/2012/REC-owl2-primer-20121211/) through owlready2. (Tip: follow the link to avoid looking at funny pictures of owls the rest of the afternoon) \n",
    "\n",
    "Remember that an ontology is often an application ontology, meaning that it is built with a specific task in mind. \n",
    "We could model _everything_ within a certain domain in the most ontologically correct way possible, _or_ **we could model the domain in accordance with the application's task.** \n",
    "\n",
    "\n",
    "**Your task and domain:** You are a broadcaster that has just digitised its radio archives into a digital music archive (DMA), and aims to play more interesting tracks by discovering their 'hidden treasures', by making unexpected and potentially interesting relations between tracks visible to the users (which are journalists and program makers).\n",
    "\n",
    "\n",
    "**Exercise 1** \n",
    "\n",
    "1. load music.csv into a pandas dataframe (use display.max_columns to show all columns). \n",
    "2. initialise an empty ontology using owlready2\n",
    "3. using owlready2, create a hierarchy of classes and subclasses that describe the entities in your dataframe\n",
    "4. using owrleady2, create properties and subproperties that describe how these relate to one another (using domain and range). If it helps: draw out your ontology in https://app.diagrams.net/\n",
    "    - create: object properties, data properties, functional properties (you can even add a new column of data if you want) \n",
    "5. using owlready2, add class restrictions\n",
    "6. create invididuals of your classes, and provide them with attributes using your properties! \n",
    "7. write simple queries to retrieve your individuals following: https://owlready2.readthedocs.io/en/v0.36/onto.html#simple-queries. What kind of things would journalists and program makers like to retrieve? \n",
    "6. save your asserted owl file"
   ]
  },
  {
   "cell_type": "code",
   "execution_count": 6,
   "metadata": {},
   "outputs": [
    {
     "data": {
      "text/html": [
       "<div>\n",
       "<style scoped>\n",
       "    .dataframe tbody tr th:only-of-type {\n",
       "        vertical-align: middle;\n",
       "    }\n",
       "\n",
       "    .dataframe tbody tr th {\n",
       "        vertical-align: top;\n",
       "    }\n",
       "\n",
       "    .dataframe thead th {\n",
       "        text-align: right;\n",
       "    }\n",
       "</style>\n",
       "<table border=\"1\" class=\"dataframe\">\n",
       "  <thead>\n",
       "    <tr style=\"text-align: right;\">\n",
       "      <th></th>\n",
       "      <th>album_id</th>\n",
       "      <th>name</th>\n",
       "      <th>billboard</th>\n",
       "      <th>artists</th>\n",
       "      <th>popularity</th>\n",
       "      <th>total_tracks</th>\n",
       "      <th>album_type</th>\n",
       "      <th>image_url</th>\n",
       "    </tr>\n",
       "  </thead>\n",
       "  <tbody>\n",
       "    <tr>\n",
       "      <th>0</th>\n",
       "      <td>5n1GSzC1Reao29ScnpLYqp</td>\n",
       "      <td>Dying To Live</td>\n",
       "      <td>Dying To Live</td>\n",
       "      <td>{'46SHBwWsqBkxI7EeeBEQG7': 'Kodak Black'}</td>\n",
       "      <td>83</td>\n",
       "      <td>16</td>\n",
       "      <td>album</td>\n",
       "      <td>https://i.scdn.co/image/db2133234d458f432ca207...</td>\n",
       "    </tr>\n",
       "    <tr>\n",
       "      <th>1</th>\n",
       "      <td>6UYZEYjpN1DYRW0kqFy9ZE</td>\n",
       "      <td>Championships</td>\n",
       "      <td>Championships</td>\n",
       "      <td>{'20sxb77xiYeusSH8cVdatc': 'Meek Mill'}</td>\n",
       "      <td>85</td>\n",
       "      <td>19</td>\n",
       "      <td>album</td>\n",
       "      <td>https://i.scdn.co/image/77eb7c17cafe5503c58661...</td>\n",
       "    </tr>\n",
       "    <tr>\n",
       "      <th>2</th>\n",
       "      <td>7uVimUILdzSZG4KKKWToq0</td>\n",
       "      <td>Christmas (Deluxe Special Edition)</td>\n",
       "      <td>Christmas</td>\n",
       "      <td>{'1GxkXlMwML1oSg5eLPiAz3': 'Michael Bublé'}</td>\n",
       "      <td>60</td>\n",
       "      <td>20</td>\n",
       "      <td>album</td>\n",
       "      <td>https://i.scdn.co/image/2d6ee8d4fb5a45abf35cd3...</td>\n",
       "    </tr>\n",
       "    <tr>\n",
       "      <th>3</th>\n",
       "      <td>35s58BRTGAEWztPo9WqCIs</td>\n",
       "      <td>Spider-Man: Into the Spider-Verse (Soundtrack ...</td>\n",
       "      <td>Spider-Man: Into The Spider-Verse</td>\n",
       "      <td>{'0LyfQWJT6nXafLPZqxe9Of': 'Various Artists'}</td>\n",
       "      <td>92</td>\n",
       "      <td>13</td>\n",
       "      <td>compilation</td>\n",
       "      <td>https://i.scdn.co/image/3aa37254a41cf96e815725...</td>\n",
       "    </tr>\n",
       "    <tr>\n",
       "      <th>4</th>\n",
       "      <td>41GuZcammIkupMPKH2OJ6I</td>\n",
       "      <td>ASTROWORLD</td>\n",
       "      <td>ASTROWORLD</td>\n",
       "      <td>{'0Y5tJX1MQlPlqiwlOH1tJY': 'Travis Scott'}</td>\n",
       "      <td>91</td>\n",
       "      <td>17</td>\n",
       "      <td>album</td>\n",
       "      <td>https://i.scdn.co/image/cdca7dc20c778ada42fb18...</td>\n",
       "    </tr>\n",
       "  </tbody>\n",
       "</table>\n",
       "</div>"
      ],
      "text/plain": [
       "                 album_id                                               name  \\\n",
       "0  5n1GSzC1Reao29ScnpLYqp                                      Dying To Live   \n",
       "1  6UYZEYjpN1DYRW0kqFy9ZE                                      Championships   \n",
       "2  7uVimUILdzSZG4KKKWToq0                 Christmas (Deluxe Special Edition)   \n",
       "3  35s58BRTGAEWztPo9WqCIs  Spider-Man: Into the Spider-Verse (Soundtrack ...   \n",
       "4  41GuZcammIkupMPKH2OJ6I                                         ASTROWORLD   \n",
       "\n",
       "                           billboard  \\\n",
       "0                      Dying To Live   \n",
       "1                      Championships   \n",
       "2                          Christmas   \n",
       "3  Spider-Man: Into The Spider-Verse   \n",
       "4                         ASTROWORLD   \n",
       "\n",
       "                                         artists  popularity  total_tracks  \\\n",
       "0      {'46SHBwWsqBkxI7EeeBEQG7': 'Kodak Black'}          83            16   \n",
       "1        {'20sxb77xiYeusSH8cVdatc': 'Meek Mill'}          85            19   \n",
       "2    {'1GxkXlMwML1oSg5eLPiAz3': 'Michael Bublé'}          60            20   \n",
       "3  {'0LyfQWJT6nXafLPZqxe9Of': 'Various Artists'}          92            13   \n",
       "4     {'0Y5tJX1MQlPlqiwlOH1tJY': 'Travis Scott'}          91            17   \n",
       "\n",
       "    album_type                                          image_url  \n",
       "0        album  https://i.scdn.co/image/db2133234d458f432ca207...  \n",
       "1        album  https://i.scdn.co/image/77eb7c17cafe5503c58661...  \n",
       "2        album  https://i.scdn.co/image/2d6ee8d4fb5a45abf35cd3...  \n",
       "3  compilation  https://i.scdn.co/image/3aa37254a41cf96e815725...  \n",
       "4        album  https://i.scdn.co/image/cdca7dc20c778ada42fb18...  "
      ]
     },
     "execution_count": 6,
     "metadata": {},
     "output_type": "execute_result"
    }
   ],
   "source": [
    "csv_file =  pd.read_csv('../data/musicoset_metadata/albums.csv',sep='\\t')\n",
    "pd.set_option('display.max_columns', None)\n",
    "csv_file.head()"
   ]
  },
  {
   "cell_type": "code",
   "execution_count": 7,
   "metadata": {},
   "outputs": [
    {
     "data": {
      "text/html": [
       "<div>\n",
       "<style scoped>\n",
       "    .dataframe tbody tr th:only-of-type {\n",
       "        vertical-align: middle;\n",
       "    }\n",
       "\n",
       "    .dataframe tbody tr th {\n",
       "        vertical-align: top;\n",
       "    }\n",
       "\n",
       "    .dataframe thead th {\n",
       "        text-align: right;\n",
       "    }\n",
       "</style>\n",
       "<table border=\"1\" class=\"dataframe\">\n",
       "  <thead>\n",
       "    <tr style=\"text-align: right;\">\n",
       "      <th></th>\n",
       "      <th>artist_id</th>\n",
       "      <th>name</th>\n",
       "      <th>followers</th>\n",
       "      <th>popularity</th>\n",
       "      <th>artist_type</th>\n",
       "      <th>main_genre</th>\n",
       "      <th>genres</th>\n",
       "      <th>image_url</th>\n",
       "    </tr>\n",
       "  </thead>\n",
       "  <tbody>\n",
       "    <tr>\n",
       "      <th>0</th>\n",
       "      <td>66CXWjxzNUsdJxJ2JdwvnR</td>\n",
       "      <td>Ariana Grande</td>\n",
       "      <td>34554242</td>\n",
       "      <td>96</td>\n",
       "      <td>singer</td>\n",
       "      <td>dance pop</td>\n",
       "      <td>['dance pop', 'pop', 'post-teen pop']</td>\n",
       "      <td>https://i.scdn.co/image/b1dfbe843b0b9f54ab2e58...</td>\n",
       "    </tr>\n",
       "    <tr>\n",
       "      <th>1</th>\n",
       "      <td>26VFTg2z8YR0cCuwLzESi2</td>\n",
       "      <td>Halsey</td>\n",
       "      <td>7368242</td>\n",
       "      <td>90</td>\n",
       "      <td>singer</td>\n",
       "      <td>dance pop</td>\n",
       "      <td>['dance pop', 'electropop', 'etherpop', 'indie...</td>\n",
       "      <td>https://i.scdn.co/image/22a5f3d8c42bc7cb55215e...</td>\n",
       "    </tr>\n",
       "    <tr>\n",
       "      <th>2</th>\n",
       "      <td>0Y5tJX1MQlPlqiwlOH1tJY</td>\n",
       "      <td>Travis Scott</td>\n",
       "      <td>6313709</td>\n",
       "      <td>94</td>\n",
       "      <td>rapper</td>\n",
       "      <td>pop</td>\n",
       "      <td>['pop', 'pop rap', 'rap']</td>\n",
       "      <td>https://i.scdn.co/image/dc5eba5e032c2e5bc4d42c...</td>\n",
       "    </tr>\n",
       "    <tr>\n",
       "      <th>3</th>\n",
       "      <td>246dkjvS1zLTtiykXe5h60</td>\n",
       "      <td>Post Malone</td>\n",
       "      <td>16737002</td>\n",
       "      <td>96</td>\n",
       "      <td>rapper</td>\n",
       "      <td>dfw rap</td>\n",
       "      <td>['dfw rap', 'pop', 'rap']</td>\n",
       "      <td>https://i.scdn.co/image/f9d8b742b66609f12da023...</td>\n",
       "    </tr>\n",
       "    <tr>\n",
       "      <th>4</th>\n",
       "      <td>1zNqQNIdeOUZHb8zbZRFMX</td>\n",
       "      <td>Swae Lee</td>\n",
       "      <td>483032</td>\n",
       "      <td>89</td>\n",
       "      <td>singer</td>\n",
       "      <td>trap music</td>\n",
       "      <td>['trap music']</td>\n",
       "      <td>https://i.scdn.co/image/a177469870b41f7e17e3b5...</td>\n",
       "    </tr>\n",
       "  </tbody>\n",
       "</table>\n",
       "</div>"
      ],
      "text/plain": [
       "                artist_id           name followers  popularity artist_type  \\\n",
       "0  66CXWjxzNUsdJxJ2JdwvnR  Ariana Grande  34554242          96      singer   \n",
       "1  26VFTg2z8YR0cCuwLzESi2         Halsey   7368242          90      singer   \n",
       "2  0Y5tJX1MQlPlqiwlOH1tJY   Travis Scott   6313709          94      rapper   \n",
       "3  246dkjvS1zLTtiykXe5h60    Post Malone  16737002          96      rapper   \n",
       "4  1zNqQNIdeOUZHb8zbZRFMX       Swae Lee    483032          89      singer   \n",
       "\n",
       "   main_genre                                             genres  \\\n",
       "0   dance pop              ['dance pop', 'pop', 'post-teen pop']   \n",
       "1   dance pop  ['dance pop', 'electropop', 'etherpop', 'indie...   \n",
       "2         pop                          ['pop', 'pop rap', 'rap']   \n",
       "3     dfw rap                          ['dfw rap', 'pop', 'rap']   \n",
       "4  trap music                                     ['trap music']   \n",
       "\n",
       "                                           image_url  \n",
       "0  https://i.scdn.co/image/b1dfbe843b0b9f54ab2e58...  \n",
       "1  https://i.scdn.co/image/22a5f3d8c42bc7cb55215e...  \n",
       "2  https://i.scdn.co/image/dc5eba5e032c2e5bc4d42c...  \n",
       "3  https://i.scdn.co/image/f9d8b742b66609f12da023...  \n",
       "4  https://i.scdn.co/image/a177469870b41f7e17e3b5...  "
      ]
     },
     "execution_count": 7,
     "metadata": {},
     "output_type": "execute_result"
    }
   ],
   "source": [
    "csv_file =  pd.read_csv('../data/musicoset_metadata/artists.csv',sep='\\t')\n",
    "pd.set_option('display.max_columns', None)\n",
    "csv_file.head()"
   ]
  },
  {
   "cell_type": "code",
   "execution_count": 8,
   "metadata": {},
   "outputs": [
    {
     "data": {
      "text/html": [
       "<div>\n",
       "<style scoped>\n",
       "    .dataframe tbody tr th:only-of-type {\n",
       "        vertical-align: middle;\n",
       "    }\n",
       "\n",
       "    .dataframe tbody tr th {\n",
       "        vertical-align: top;\n",
       "    }\n",
       "\n",
       "    .dataframe thead th {\n",
       "        text-align: right;\n",
       "    }\n",
       "</style>\n",
       "<table border=\"1\" class=\"dataframe\">\n",
       "  <thead>\n",
       "    <tr style=\"text-align: right;\">\n",
       "      <th></th>\n",
       "      <th>song_id</th>\n",
       "      <th>song_name</th>\n",
       "      <th>billboard</th>\n",
       "      <th>artists</th>\n",
       "      <th>popularity</th>\n",
       "      <th>explicit</th>\n",
       "      <th>song_type</th>\n",
       "    </tr>\n",
       "  </thead>\n",
       "  <tbody>\n",
       "    <tr>\n",
       "      <th>0</th>\n",
       "      <td>3e9HZxeyfWwjeyPAMmWSSQ</td>\n",
       "      <td>thank u, next</td>\n",
       "      <td>('Thank U, Next', 'Ariana Grande')</td>\n",
       "      <td>{'66CXWjxzNUsdJxJ2JdwvnR': 'Ariana Grande'}</td>\n",
       "      <td>86</td>\n",
       "      <td>True</td>\n",
       "      <td>Solo</td>\n",
       "    </tr>\n",
       "    <tr>\n",
       "      <th>1</th>\n",
       "      <td>5p7ujcrUXASCNwRaWNHR1C</td>\n",
       "      <td>Without Me</td>\n",
       "      <td>('Without Me', 'Halsey')</td>\n",
       "      <td>{'26VFTg2z8YR0cCuwLzESi2': 'Halsey'}</td>\n",
       "      <td>87</td>\n",
       "      <td>True</td>\n",
       "      <td>Solo</td>\n",
       "    </tr>\n",
       "    <tr>\n",
       "      <th>2</th>\n",
       "      <td>2xLMifQCjDGFmkHkpNLD9h</td>\n",
       "      <td>SICKO MODE</td>\n",
       "      <td>('Sicko Mode', 'Travis Scott')</td>\n",
       "      <td>{'0Y5tJX1MQlPlqiwlOH1tJY': 'Travis Scott'}</td>\n",
       "      <td>85</td>\n",
       "      <td>True</td>\n",
       "      <td>Solo</td>\n",
       "    </tr>\n",
       "    <tr>\n",
       "      <th>3</th>\n",
       "      <td>3KkXRkHbMCARz0aVfEt68P</td>\n",
       "      <td>Sunflower - Spider-Man: Into the Spider-Verse</td>\n",
       "      <td>('Sunflower (Spider-Man: Into The Spider-Verse...</td>\n",
       "      <td>{'246dkjvS1zLTtiykXe5h60': 'Post Malone', '1zN...</td>\n",
       "      <td>92</td>\n",
       "      <td>False</td>\n",
       "      <td>Collaboration</td>\n",
       "    </tr>\n",
       "    <tr>\n",
       "      <th>4</th>\n",
       "      <td>1rqqCSm0Qe4I9rUvWncaom</td>\n",
       "      <td>High Hopes</td>\n",
       "      <td>('High Hopes', 'Panic! At The Disco')</td>\n",
       "      <td>{'20JZFwl6HVl6yg8a4H3ZqK': 'Panic! At The Disco'}</td>\n",
       "      <td>86</td>\n",
       "      <td>False</td>\n",
       "      <td>Solo</td>\n",
       "    </tr>\n",
       "  </tbody>\n",
       "</table>\n",
       "</div>"
      ],
      "text/plain": [
       "                  song_id                                      song_name  \\\n",
       "0  3e9HZxeyfWwjeyPAMmWSSQ                                  thank u, next   \n",
       "1  5p7ujcrUXASCNwRaWNHR1C                                     Without Me   \n",
       "2  2xLMifQCjDGFmkHkpNLD9h                                     SICKO MODE   \n",
       "3  3KkXRkHbMCARz0aVfEt68P  Sunflower - Spider-Man: Into the Spider-Verse   \n",
       "4  1rqqCSm0Qe4I9rUvWncaom                                     High Hopes   \n",
       "\n",
       "                                           billboard  \\\n",
       "0                 ('Thank U, Next', 'Ariana Grande')   \n",
       "1                           ('Without Me', 'Halsey')   \n",
       "2                     ('Sicko Mode', 'Travis Scott')   \n",
       "3  ('Sunflower (Spider-Man: Into The Spider-Verse...   \n",
       "4              ('High Hopes', 'Panic! At The Disco')   \n",
       "\n",
       "                                             artists  popularity  explicit  \\\n",
       "0        {'66CXWjxzNUsdJxJ2JdwvnR': 'Ariana Grande'}          86      True   \n",
       "1               {'26VFTg2z8YR0cCuwLzESi2': 'Halsey'}          87      True   \n",
       "2         {'0Y5tJX1MQlPlqiwlOH1tJY': 'Travis Scott'}          85      True   \n",
       "3  {'246dkjvS1zLTtiykXe5h60': 'Post Malone', '1zN...          92     False   \n",
       "4  {'20JZFwl6HVl6yg8a4H3ZqK': 'Panic! At The Disco'}          86     False   \n",
       "\n",
       "       song_type  \n",
       "0           Solo  \n",
       "1           Solo  \n",
       "2           Solo  \n",
       "3  Collaboration  \n",
       "4           Solo  "
      ]
     },
     "execution_count": 8,
     "metadata": {},
     "output_type": "execute_result"
    }
   ],
   "source": [
    "csv_file =  pd.read_csv('../data/musicoset_metadata/songs.csv',sep='\\t')\n",
    "pd.set_option('display.max_columns', None)\n",
    "csv_file.head()"
   ]
  },
  {
   "cell_type": "code",
   "execution_count": 9,
   "metadata": {},
   "outputs": [
    {
     "data": {
      "text/html": [
       "<div>\n",
       "<style scoped>\n",
       "    .dataframe tbody tr th:only-of-type {\n",
       "        vertical-align: middle;\n",
       "    }\n",
       "\n",
       "    .dataframe tbody tr th {\n",
       "        vertical-align: top;\n",
       "    }\n",
       "\n",
       "    .dataframe thead th {\n",
       "        text-align: right;\n",
       "    }\n",
       "</style>\n",
       "<table border=\"1\" class=\"dataframe\">\n",
       "  <thead>\n",
       "    <tr style=\"text-align: right;\">\n",
       "      <th></th>\n",
       "      <th>song_id</th>\n",
       "      <th>album_id</th>\n",
       "      <th>track_number</th>\n",
       "      <th>release_date</th>\n",
       "      <th>release_date_precision</th>\n",
       "    </tr>\n",
       "  </thead>\n",
       "  <tbody>\n",
       "    <tr>\n",
       "      <th>0</th>\n",
       "      <td>3e9HZxeyfWwjeyPAMmWSSQ</td>\n",
       "      <td>2fYhqwDWXjbpjaIJPEfKFw</td>\n",
       "      <td>11</td>\n",
       "      <td>2019-02-08</td>\n",
       "      <td>day</td>\n",
       "    </tr>\n",
       "    <tr>\n",
       "      <th>1</th>\n",
       "      <td>5p7ujcrUXASCNwRaWNHR1C</td>\n",
       "      <td>0zzrCTzvL4ZmR42xF46Afm</td>\n",
       "      <td>1</td>\n",
       "      <td>2018-10-04</td>\n",
       "      <td>day</td>\n",
       "    </tr>\n",
       "    <tr>\n",
       "      <th>2</th>\n",
       "      <td>2xLMifQCjDGFmkHkpNLD9h</td>\n",
       "      <td>41GuZcammIkupMPKH2OJ6I</td>\n",
       "      <td>3</td>\n",
       "      <td>2018-08-03</td>\n",
       "      <td>day</td>\n",
       "    </tr>\n",
       "    <tr>\n",
       "      <th>3</th>\n",
       "      <td>3KkXRkHbMCARz0aVfEt68P</td>\n",
       "      <td>35s58BRTGAEWztPo9WqCIs</td>\n",
       "      <td>2</td>\n",
       "      <td>2018-12-14</td>\n",
       "      <td>day</td>\n",
       "    </tr>\n",
       "    <tr>\n",
       "      <th>4</th>\n",
       "      <td>1rqqCSm0Qe4I9rUvWncaom</td>\n",
       "      <td>6ApYSpXF8GxZAgBTHDzYge</td>\n",
       "      <td>4</td>\n",
       "      <td>2018-06-22</td>\n",
       "      <td>day</td>\n",
       "    </tr>\n",
       "  </tbody>\n",
       "</table>\n",
       "</div>"
      ],
      "text/plain": [
       "                  song_id                album_id  track_number release_date  \\\n",
       "0  3e9HZxeyfWwjeyPAMmWSSQ  2fYhqwDWXjbpjaIJPEfKFw            11   2019-02-08   \n",
       "1  5p7ujcrUXASCNwRaWNHR1C  0zzrCTzvL4ZmR42xF46Afm             1   2018-10-04   \n",
       "2  2xLMifQCjDGFmkHkpNLD9h  41GuZcammIkupMPKH2OJ6I             3   2018-08-03   \n",
       "3  3KkXRkHbMCARz0aVfEt68P  35s58BRTGAEWztPo9WqCIs             2   2018-12-14   \n",
       "4  1rqqCSm0Qe4I9rUvWncaom  6ApYSpXF8GxZAgBTHDzYge             4   2018-06-22   \n",
       "\n",
       "  release_date_precision  \n",
       "0                    day  \n",
       "1                    day  \n",
       "2                    day  \n",
       "3                    day  \n",
       "4                    day  "
      ]
     },
     "execution_count": 9,
     "metadata": {},
     "output_type": "execute_result"
    }
   ],
   "source": [
    "csv_file =  pd.read_csv('../data/musicoset_metadata/tracks.csv',sep='\\t')\n",
    "pd.set_option('display.max_columns', None)\n",
    "csv_file.head()"
   ]
  },
  {
   "cell_type": "code",
   "execution_count": 10,
   "metadata": {
    "scrolled": true
   },
   "outputs": [],
   "source": [
    "onto = get_ontology(\"http://test.org/myonto.owl\") # creates an empty ontology. Use the namespace you like!"
   ]
  },
  {
   "cell_type": "markdown",
   "metadata": {},
   "source": [
    "#### Creating classes\n",
    "Every class is a subclass of Thing"
   ]
  },
  {
   "cell_type": "code",
   "execution_count": 11,
   "metadata": {},
   "outputs": [],
   "source": [
    "# every class is a subclass of owl:Thing!\n",
    "\n",
    "class Person(Thing):\n",
    "    namespace = onto\n",
    "    \n",
    "class Artist(Thing):\n",
    "    namespace = onto\n",
    "\n",
    "class Location(Thing) :\n",
    "    namespace = onto\n",
    "    \n",
    "class Song(Thing) :\n",
    "    namespace = onto\n",
    "    \n",
    "class Genre(Thing) :\n",
    "    namespace = onto\n",
    "\n",
    "class Member(Thing):\n",
    "    namespace = onto"
   ]
  },
  {
   "cell_type": "code",
   "execution_count": 12,
   "metadata": {
    "scrolled": true
   },
   "outputs": [
    {
     "name": "stdout",
     "output_type": "stream",
     "text": [
      "{myonto.Person, myonto.SoloArtist, owl.Thing}\n"
     ]
    }
   ],
   "source": [
    "# add a class that is a subclass    \n",
    "class SoloArtist(Person):\n",
    "    pass \n",
    "    # no need to specify namespace here, which is derived from Person\n",
    "\n",
    "class SubGenre(Genre):\n",
    "    pass\n",
    "# let's check the superclasses\n",
    "print(SoloArtist.ancestors())"
   ]
  },
  {
   "cell_type": "code",
   "execution_count": 13,
   "metadata": {
    "scrolled": true
   },
   "outputs": [
    {
     "name": "stdout",
     "output_type": "stream",
     "text": [
      "[myonto.Person, myonto.Artist, myonto.Location, myonto.Song, myonto.Genre, myonto.Member, myonto.SoloArtist, myonto.SubGenre]\n"
     ]
    }
   ],
   "source": [
    "# print the list of the classes in the ontology\n",
    "\n",
    "print(list(onto.classes()))"
   ]
  },
  {
   "cell_type": "markdown",
   "metadata": {},
   "source": [
    "#### Create object properties\n",
    "Properties of type owl:ObjectProperty have only non-literals as range, \n",
    "They are rdfs:subPropertyOf owl:topObjectProperty"
   ]
  },
  {
   "cell_type": "code",
   "execution_count": 14,
   "metadata": {},
   "outputs": [],
   "source": [
    "class authorOf(ObjectProperty): \n",
    "    domain = [Artist]\n",
    "    range = [Song]\n",
    "    namespace = onto\n",
    "    pass\n",
    "\n",
    "class locatedIn(Artist >> Location): # another way of specifying domain and range\n",
    "    namespace = onto\n",
    "\n",
    "class hasGenre(Song >> Genre): \n",
    "    namespace = onto \n",
    "    \n",
    "class writtenBy(Song >> Artist):\n",
    "    namespace = onto\n",
    "    \n",
    "class hasFan(Artist >> Person):\n",
    "    namespace = onto\n",
    "\n",
    "class bandMember(Artist >> Member):\n",
    "    namespace = onto\n",
    "        "
   ]
  },
  {
   "cell_type": "markdown",
   "metadata": {},
   "source": [
    "Let's add properties with restrictions too"
   ]
  },
  {
   "cell_type": "code",
   "execution_count": 15,
   "metadata": {},
   "outputs": [],
   "source": [
    "# properties with restrictions\n",
    "class locatedIn(ObjectProperty, TransitiveProperty): # if <A locatedin B>, and <B locatedin C>, infer <A locatedin C> \n",
    "    namespace = onto\n",
    "    domain = [Location]\n",
    "    range = [Location]\n",
    "    \n",
    "class collaboratesWith(ObjectProperty, SymmetricProperty):  #if <A collaboratesWith B>, infer <B collaboratesWith A>\n",
    "    domain = [Artist]\n",
    "    range = [Artist]   \n",
    "    namespace = onto\n",
    "    \n",
    "class authorOf(Artist >> Song): #if <A authorOf B>, infer <B writtenBy A>\n",
    "    inverse_property = writtenBy \n",
    "    namespace = onto\n",
    "    \n",
    "class isFanOf(Person >> Artist):\n",
    "    inverse_property = hasFan \n",
    "    namespace = onto"
   ]
  },
  {
   "cell_type": "markdown",
   "metadata": {},
   "source": [
    "#### Create datatype properties\n",
    "Properties of type owl:DatatypeProperty have only literals as range,\n",
    "They are rdfs:subPropertyOf owl:topDatatypeProperty"
   ]
  },
  {
   "cell_type": "code",
   "execution_count": 16,
   "metadata": {},
   "outputs": [],
   "source": [
    "# datatype properties \n",
    "class followers(DataProperty, FunctionalProperty): #every Artist has a single nr of followers (per platform)\n",
    "    namespace = onto\n",
    "    domain = [Artist]\n",
    "    range = [int] \n",
    "        \n",
    "class name(DataProperty, FunctionalProperty): #every artist has a single name\n",
    "    namespace = onto\n",
    "    domain = [Artist]\n",
    "    range = [str] \n",
    "    \n",
    "class releaseDate(DataProperty, FunctionalProperty):\n",
    "    namespace = onto\n",
    "    domain = [Song]\n",
    "    range = [str] #this can also be a datetype, but lets use str for now\n",
    "    \n",
    "class birthDate(DataProperty, FunctionalProperty):\n",
    "    namespace = onto\n",
    "    domain = [Person]\n",
    "    range = [str] #this can also be a datetype, but lets use str for now\n",
    "    \n",
    "class height(DataProperty, FunctionalProperty):\n",
    "    namespace = onto\n",
    "    domain = [Person]\n",
    "    range = [int] "
   ]
  },
  {
   "cell_type": "code",
   "execution_count": 17,
   "metadata": {
    "scrolled": false
   },
   "outputs": [
    {
     "data": {
      "text/plain": [
       "[myonto.followers,\n",
       " myonto.name,\n",
       " myonto.releaseDate,\n",
       " myonto.birthDate,\n",
       " myonto.height,\n",
       " myonto.authorOf,\n",
       " myonto.locatedIn,\n",
       " myonto.hasGenre,\n",
       " myonto.writtenBy,\n",
       " myonto.hasFan,\n",
       " myonto.bandMember,\n",
       " myonto.collaboratesWith,\n",
       " myonto.isFanOf]"
      ]
     },
     "execution_count": 17,
     "metadata": {},
     "output_type": "execute_result"
    }
   ],
   "source": [
    "#print all properties\n",
    "list(onto.properties()) # can also return .object_properties() or .data_properties()"
   ]
  },
  {
   "cell_type": "markdown",
   "metadata": {},
   "source": [
    "#### Adding class restrictions \n",
    "Class Restictions are special owl:Classes"
   ]
  },
  {
   "cell_type": "code",
   "execution_count": 18,
   "metadata": {
    "scrolled": true
   },
   "outputs": [],
   "source": [
    "# restriction over Artist : an artist must have at a minimum written 1 song\n",
    "Artist.is_a.append(authorOf.min(1,Song)) \n",
    "\n",
    "# restriction over Song : a song must have at least one genre\n",
    "Song.is_a.append(hasGenre.min(1))\n",
    "\n",
    "# restriction over Song : a song must have at least one genre\n",
    "Song.is_a.append(releaseDate.max(1))\n",
    "\n",
    "# restrictions can also be specified in a class definition directly\n",
    "\n",
    "class CollaboratingArtist(Artist):\n",
    "    equivalent_to = [ Artist & collaboratesWith.some(Artist)]\n",
    "    \n",
    "class SoloArtist(Artist):\n",
    "    equivalent_to = [Artist & bandMember.max(1)]\n"
   ]
  },
  {
   "cell_type": "markdown",
   "metadata": {},
   "source": [
    "Let's add some disjointness between classes"
   ]
  },
  {
   "cell_type": "code",
   "execution_count": 19,
   "metadata": {},
   "outputs": [
    {
     "data": {
      "text/plain": [
       "AllDisjoint([myonto.Artist, myonto.Song])"
      ]
     },
     "execution_count": 19,
     "metadata": {},
     "output_type": "execute_result"
    }
   ],
   "source": [
    "# you cannot be an instance of an Arist and a Song at the same time \n",
    "AllDisjoint([Artist,Song])"
   ]
  },
  {
   "cell_type": "markdown",
   "metadata": {},
   "source": [
    "#### Create instances (individuals)\n",
    "Instances in OWL are called individuals!"
   ]
  },
  {
   "cell_type": "code",
   "execution_count": 20,
   "metadata": {},
   "outputs": [],
   "source": [
    "biffy = Artist(\"biffy_clyro\")\n",
    "massive_attack = Artist(\"massive_attack\", namespace = onto) # you can also add a namespace\n",
    "\n",
    "# # creating individuals with properties \n",
    "tricky = SoloArtist(\"tricky\", collaboratesWith=[massive_attack]) \n",
    "\n",
    "ilaria = Person(\"ilaria\", isFanOf=[biffy], birthDate=\"19-03-1997\" ) # because I am 23 yo\n",
    "lise = Person(\"lise\", isFanOf=[massive_attack], height=172) # and I am not as tall as I look\n",
    "\n",
    "space = Song(\"Space\")\n",
    "\n",
    "# or adding a property to an individual directly\n",
    "biffy.authorOf = [space]\n",
    "    \n",
    "uk = Location('United_Kingdom', namespace= onto)\n",
    "scotland = Location(\"Scotland\", namespace= onto, locatedIn = [uk])\n",
    "edi = Location(\"Edinburgh\", namespace= onto, locatedIn = [scotland])\n",
    "\n",
    "biffy.locatedIn = [scotland]\n",
    "massive_attack.locatedIn = [uk]"
   ]
  },
  {
   "cell_type": "markdown",
   "metadata": {},
   "source": [
    "Let's also look at disjointness in our ontology"
   ]
  },
  {
   "cell_type": "code",
   "execution_count": 21,
   "metadata": {},
   "outputs": [
    {
     "data": {
      "text/plain": [
       "AllDisjoint([myonto.pop, myonto.rock, myonto.triphop])"
      ]
     },
     "execution_count": 21,
     "metadata": {},
     "output_type": "execute_result"
    }
   ],
   "source": [
    "pop     = Genre('pop')\n",
    "rock    = Genre('rock')\n",
    "triphop = Genre('triphop')\n",
    "experimentalRock = SubGenre('experimentalRock')\n",
    "\n",
    "# Assert that there exist only three possible genres in this world\n",
    "Genre.is_a.append(OneOf([pop, rock, triphop]))\n",
    "\n",
    "#and that all instruments are different (instance level)\n",
    "AllDifferent([pop, rock, triphop])"
   ]
  },
  {
   "cell_type": "markdown",
   "metadata": {},
   "source": [
    "#### Basic ontology querying\n",
    "\n",
    "Let's search information in our ontology"
   ]
  },
  {
   "cell_type": "code",
   "execution_count": 22,
   "metadata": {
    "scrolled": false
   },
   "outputs": [
    {
     "name": "stdout",
     "output_type": "stream",
     "text": [
      "Biffy's IRI : http://test.org/myonto.owl#biffy_clyro\n",
      "Ilaria is born on 19-03-1997\n",
      "\n",
      "Lise's height is 172 cm\n",
      "Who collaborates with someone? \n",
      "[myonto.tricky, myonto.massive_attack]\n",
      "\n",
      "Search for a IRI containing 'ilaria'\n",
      "[myonto.ilaria]\n",
      "\n",
      "Which artist has a fan?\n",
      "[myonto.biffy_clyro, myonto.massive_attack]\n"
     ]
    }
   ],
   "source": [
    "print(\"Biffy's IRI : %s\" % biffy.iri)\n",
    "print(\"Ilaria is born on %s\" % ilaria.birthDate)\n",
    "print(\"\")  \n",
    "print(\"Lise's height is %s cm\" % lise.height)\n",
    "print(\"Who collaborates with someone? \\n%s\"% onto.search(collaboratesWith = \"*\"))\n",
    "print(\"\")\n",
    "print(\"Search for a IRI containing 'ilaria'\\n%s\" % onto.search(iri = \"*ilaria\"))\n",
    "print(\"\")\n",
    "print(\"Which artist has a fan?\\n%s\" % onto.search(type=onto.Artist, hasFan=\"*\"))\n",
    "\n",
    "## other Basic queries\n",
    "# iri, for searching entities by its full IRI\n",
    "# type, for searching Individuals of a given Class\n",
    "# subclass_of, for searching subclasses of a given Class\n",
    "# is_a*, for searching both Individuals and subclasses of a given Class"
   ]
  },
  {
   "cell_type": "code",
   "execution_count": 23,
   "metadata": {},
   "outputs": [
    {
     "name": "stdout",
     "output_type": "stream",
     "text": [
      "[myonto.Artist, myonto.Song]\n",
      "[myonto.pop, myonto.rock, myonto.triphop]\n"
     ]
    }
   ],
   "source": [
    "for d in onto.disjoints(): # will print both AllDifferent (individuals) and AllDisjoint (classes)\n",
    "    print(d.entities)"
   ]
  },
  {
   "cell_type": "markdown",
   "metadata": {},
   "source": [
    "#### Save asserted triples"
   ]
  },
  {
   "cell_type": "code",
   "execution_count": 24,
   "metadata": {},
   "outputs": [],
   "source": [
    "onto.save(file = \"../data/my_music_ontology_asserted.owl\", format = \"rdfxml\") # also supported ntriples"
   ]
  },
  {
   "cell_type": "markdown",
   "metadata": {},
   "source": [
    "## Inference time\n",
    "\n",
    "Let's look at how reasoning works.\n",
    "\n",
    "\n",
    "Some things (eg superclasses) are already inferred by owlready2\n",
    "\n",
    "**Exercise 2**\n",
    "1. think about which things are inferred from your OWL semantics. Query/look at your graph: do you see what you expected?\n",
    "2. "
   ]
  },
  {
   "cell_type": "code",
   "execution_count": 25,
   "metadata": {},
   "outputs": [
    {
     "name": "stdout",
     "output_type": "stream",
     "text": [
      "myonto.tricky\n",
      "myonto.ilaria\n",
      "myonto.lise\n",
      "\n",
      "myonto.pop\n",
      "myonto.rock\n",
      "myonto.triphop\n",
      "myonto.experimentalRock\n"
     ]
    }
   ],
   "source": [
    "# NB : we never asserted that tricky was a person, nor that experimentalRock was a Genre\n",
    "\n",
    "for p in Person.instances(): # all people :\n",
    "    print(p)\n",
    "\n",
    "print(\"\")\n",
    "for i in Genre.instances(): # all genres :\n",
    "    print(i) "
   ]
  },
  {
   "cell_type": "code",
   "execution_count": 26,
   "metadata": {
    "scrolled": true
   },
   "outputs": [
    {
     "name": "stdout",
     "output_type": "stream",
     "text": [
      "Biffy has fan : [myonto.ilaria]\n",
      "Tricky plays with : [myonto.massive_attack]\n"
     ]
    }
   ],
   "source": [
    "print(\"Biffy has fan : %s\" % biffy.hasFan) # did we specify that simon has any fan?\n",
    "print(\"Tricky plays with : %s\" % tricky.collaboratesWith) # did we specify who simon plays with?"
   ]
  },
  {
   "cell_type": "code",
   "execution_count": 27,
   "metadata": {
    "scrolled": false
   },
   "outputs": [
    {
     "name": "stdout",
     "output_type": "stream",
     "text": [
      "Edinburgh is located in : [myonto.Scotland]\n"
     ]
    }
   ],
   "source": [
    "# this does not work! We need a reasoner ! (transitiveProperty)\n",
    "print(\"Edinburgh is located in : %s\" % edi.locatedIn) "
   ]
  },
  {
   "cell_type": "code",
   "execution_count": 28,
   "metadata": {},
   "outputs": [
    {
     "data": {
      "text/plain": [
       "myonto.Edinburgh"
      ]
     },
     "execution_count": 28,
     "metadata": {},
     "output_type": "execute_result"
    }
   ],
   "source": [
    "edi"
   ]
  },
  {
   "cell_type": "markdown",
   "metadata": {},
   "source": [
    "### Consistency checking\n",
    "\n",
    "Check out a full example at https://owlready2.readthedocs.io/en/latest/reasoning.html\n"
   ]
  },
  {
   "cell_type": "code",
   "execution_count": 32,
   "metadata": {
    "scrolled": false
   },
   "outputs": [
    {
     "name": "stderr",
     "output_type": "stream",
     "text": [
      "* Owlready2 * Running HermiT...\n",
      "    java -Xmx2000M -cp /usr/local/lib/python3.10/site-packages/owlready2/hermit:/usr/local/lib/python3.10/site-packages/owlready2/hermit/HermiT.jar org.semanticweb.HermiT.cli.CommandLine -c -O -D -I file:////var/folders/ww/33zq_rh50tx94n81lb4thx0w0000gn/T/tmpby4bcheg -Y\n"
     ]
    },
    {
     "ename": "OwlReadyJavaError",
     "evalue": "Java error message is:\nThe operation couldn’t be completed. Unable to locate a Java Runtime.\nPlease visit http://www.java.com for information on installing Java.\n\n",
     "output_type": "error",
     "traceback": [
      "\u001b[0;31m---------------------------------------------------------------------------\u001b[0m",
      "\u001b[0;31mCalledProcessError\u001b[0m                        Traceback (most recent call last)",
      "File \u001b[0;32m/usr/local/lib/python3.10/site-packages/owlready2/reasoning.py:148\u001b[0m, in \u001b[0;36msync_reasoner_hermit\u001b[0;34m(x, infer_property_values, debug, keep_tmp_file)\u001b[0m\n\u001b[1;32m    147\u001b[0m \u001b[39mtry\u001b[39;00m:\n\u001b[0;32m--> 148\u001b[0m   output \u001b[39m=\u001b[39m subprocess\u001b[39m.\u001b[39;49mcheck_output(command, stderr \u001b[39m=\u001b[39;49m subprocess\u001b[39m.\u001b[39;49mSTDOUT, \u001b[39m*\u001b[39;49m\u001b[39m*\u001b[39;49m_subprocess_kargs)\n\u001b[1;32m    149\u001b[0m \u001b[39mexcept\u001b[39;00m subprocess\u001b[39m.\u001b[39mCalledProcessError \u001b[39mas\u001b[39;00m e:\n",
      "File \u001b[0;32m/usr/local/Cellar/python@3.10/3.10.9/Frameworks/Python.framework/Versions/3.10/lib/python3.10/subprocess.py:421\u001b[0m, in \u001b[0;36mcheck_output\u001b[0;34m(timeout, *popenargs, **kwargs)\u001b[0m\n\u001b[1;32m    419\u001b[0m     kwargs[\u001b[39m'\u001b[39m\u001b[39minput\u001b[39m\u001b[39m'\u001b[39m] \u001b[39m=\u001b[39m empty\n\u001b[0;32m--> 421\u001b[0m \u001b[39mreturn\u001b[39;00m run(\u001b[39m*\u001b[39;49mpopenargs, stdout\u001b[39m=\u001b[39;49mPIPE, timeout\u001b[39m=\u001b[39;49mtimeout, check\u001b[39m=\u001b[39;49m\u001b[39mTrue\u001b[39;49;00m,\n\u001b[1;32m    422\u001b[0m            \u001b[39m*\u001b[39;49m\u001b[39m*\u001b[39;49mkwargs)\u001b[39m.\u001b[39mstdout\n",
      "File \u001b[0;32m/usr/local/Cellar/python@3.10/3.10.9/Frameworks/Python.framework/Versions/3.10/lib/python3.10/subprocess.py:526\u001b[0m, in \u001b[0;36mrun\u001b[0;34m(input, capture_output, timeout, check, *popenargs, **kwargs)\u001b[0m\n\u001b[1;32m    525\u001b[0m     \u001b[39mif\u001b[39;00m check \u001b[39mand\u001b[39;00m retcode:\n\u001b[0;32m--> 526\u001b[0m         \u001b[39mraise\u001b[39;00m CalledProcessError(retcode, process\u001b[39m.\u001b[39margs,\n\u001b[1;32m    527\u001b[0m                                  output\u001b[39m=\u001b[39mstdout, stderr\u001b[39m=\u001b[39mstderr)\n\u001b[1;32m    528\u001b[0m \u001b[39mreturn\u001b[39;00m CompletedProcess(process\u001b[39m.\u001b[39margs, retcode, stdout, stderr)\n",
      "\u001b[0;31mCalledProcessError\u001b[0m: Command '['java', '-Xmx2000M', '-cp', '/usr/local/lib/python3.10/site-packages/owlready2/hermit:/usr/local/lib/python3.10/site-packages/owlready2/hermit/HermiT.jar', 'org.semanticweb.HermiT.cli.CommandLine', '-c', '-O', '-D', '-I', 'file:////var/folders/ww/33zq_rh50tx94n81lb4thx0w0000gn/T/tmpby4bcheg', '-Y']' returned non-zero exit status 1.",
      "\nDuring handling of the above exception, another exception occurred:\n",
      "\u001b[0;31mOwlReadyJavaError\u001b[0m                         Traceback (most recent call last)",
      "Cell \u001b[0;32mIn[32], line 4\u001b[0m\n\u001b[1;32m      1\u001b[0m \u001b[39m# after adding all restrictions we can run a reasoner\u001b[39;00m\n\u001b[0;32m----> 4\u001b[0m sync_reasoner(infer_property_values \u001b[39m=\u001b[39;49m \u001b[39mTrue\u001b[39;49;00m)\n\u001b[1;32m      5\u001b[0m     \u001b[39m# if you remove infer_property and infer_data_property, it will only infer over Classes!\u001b[39;00m\n",
      "File \u001b[0;32m/usr/local/lib/python3.10/site-packages/owlready2/reasoning.py:153\u001b[0m, in \u001b[0;36msync_reasoner_hermit\u001b[0;34m(x, infer_property_values, debug, keep_tmp_file)\u001b[0m\n\u001b[1;32m    151\u001b[0m     \u001b[39mraise\u001b[39;00m OwlReadyInconsistentOntologyError()\n\u001b[1;32m    152\u001b[0m   \u001b[39melse\u001b[39;00m:\n\u001b[0;32m--> 153\u001b[0m     \u001b[39mraise\u001b[39;00m OwlReadyJavaError(\u001b[39m\"\u001b[39m\u001b[39mJava error message is:\u001b[39m\u001b[39m\\n\u001b[39;00m\u001b[39m%s\u001b[39;00m\u001b[39m\"\u001b[39m \u001b[39m%\u001b[39m _decode(e\u001b[39m.\u001b[39mstderr \u001b[39mor\u001b[39;00m e\u001b[39m.\u001b[39moutput \u001b[39mor\u001b[39;00m \u001b[39mb\u001b[39m\u001b[39m\"\u001b[39m\u001b[39m\"\u001b[39m))\n\u001b[1;32m    155\u001b[0m output \u001b[39m=\u001b[39m _decode(output)\u001b[39m.\u001b[39mreplace(\u001b[39m\"\u001b[39m\u001b[39m\\r\u001b[39;00m\u001b[39m\"\u001b[39m,\u001b[39m\"\u001b[39m\u001b[39m\"\u001b[39m)\n\u001b[1;32m    157\u001b[0m \u001b[39mif\u001b[39;00m debug:\n",
      "\u001b[0;31mOwlReadyJavaError\u001b[0m: Java error message is:\nThe operation couldn’t be completed. Unable to locate a Java Runtime.\nPlease visit http://www.java.com for information on installing Java.\n\n"
     ]
    }
   ],
   "source": [
    "# after adding all restrictions we can run a reasoner\n",
    "\n",
    "with onto : \n",
    "    sync_reasoner(infer_property_values = True)\n",
    "    # if you remove infer_property and infer_data_property, it will only infer over Classes!"
   ]
  },
  {
   "cell_type": "markdown",
   "metadata": {},
   "source": [
    "Owlready automatically gets the results of the reasoning from HermiT (a type of reasoner) and reclassifies Individuals and Classes. \n",
    "\n",
    "For example, Owlready inferred 2 new superclasses for SoloArtist : MusicPerformer and Artist ."
   ]
  },
  {
   "cell_type": "code",
   "execution_count": 33,
   "metadata": {
    "scrolled": false
   },
   "outputs": [
    {
     "data": {
      "text/plain": [
       "{myonto.Artist, myonto.Person, myonto.SoloArtist, owl.Thing}"
      ]
     },
     "execution_count": 33,
     "metadata": {},
     "output_type": "execute_result"
    }
   ],
   "source": [
    "# let's look at its superclasses\n",
    "SoloArtist.ancestors()"
   ]
  },
  {
   "cell_type": "markdown",
   "metadata": {},
   "source": [
    "Now we have inferred that Edinburgh is in Scotland!"
   ]
  },
  {
   "cell_type": "code",
   "execution_count": 34,
   "metadata": {
    "scrolled": true
   },
   "outputs": [
    {
     "data": {
      "text/plain": [
       "[myonto.Scotland]"
      ]
     },
     "execution_count": 34,
     "metadata": {},
     "output_type": "execute_result"
    }
   ],
   "source": [
    "edi.locatedIn # now it works :)"
   ]
  },
  {
   "cell_type": "markdown",
   "metadata": {},
   "source": [
    "#### Querying inferred triples\n",
    "\n",
    "** Exercise 3**\n",
    "Query your inferred triples: \n",
    "\n",
    "- *.get_parents_of(entity)* accepts any entity (Class, property or individual), and returns the superclasses (for a class), the superproperties (for a property), or the classes (for an individual). \n",
    "\n",
    "- *.get_instances_of(Class)* returns the individuals that are asserted as belonging to the given Class in the ontology. (NB for obtaining all instances, independently of the ontology they are asserted in, use Class.instances()).\n",
    "\n",
    "- *.get_children_of(entity)* returns the subclasses (or subproperties) that are asserted for the given Class or property in the ontology. (NB for obtaining all children, independently of the ontology they are asserted in, use entity.subclasses())."
   ]
  },
  {
   "cell_type": "code",
   "execution_count": 35,
   "metadata": {},
   "outputs": [
    {
     "name": "stdout",
     "output_type": "stream",
     "text": [
      "[myonto.Person, myonto.Artist]\n",
      "[myonto.SoloArtist]\n",
      "[myonto.pop, myonto.rock, myonto.triphop]\n"
     ]
    }
   ],
   "source": [
    "print(onto.get_parents_of(SoloArtist))\n",
    "print(onto.get_children_of(Person))\n",
    "print(onto.get_instances_of(Genre))"
   ]
  },
  {
   "cell_type": "code",
   "execution_count": 36,
   "metadata": {},
   "outputs": [
    {
     "data": {
      "text/plain": [
       "[]"
      ]
     },
     "execution_count": 36,
     "metadata": {},
     "output_type": "execute_result"
    }
   ],
   "source": [
    "# checks for inconsistencies in the ontology\n",
    "list(default_world.inconsistent_classes())"
   ]
  },
  {
   "cell_type": "markdown",
   "metadata": {},
   "source": [
    "#### Save inferred ontology\n",
    "\n",
    "Once inferred all facts with can save the ontology with the asserted and inferred facts. Compare it with your ontology_asserted.owl, and check for the differences."
   ]
  },
  {
   "cell_type": "code",
   "execution_count": 37,
   "metadata": {},
   "outputs": [],
   "source": [
    "onto.save(file = \"../data/my_music_ontology_inferred.owl\", format = \"rdfxml\") # also supported ntriples"
   ]
  }
 ],
 "metadata": {
  "kernelspec": {
   "display_name": "Python 3 (ipykernel)",
   "language": "python",
   "name": "python3"
  },
  "language_info": {
   "codemirror_mode": {
    "name": "ipython",
    "version": 3
   },
   "file_extension": ".py",
   "mimetype": "text/x-python",
   "name": "python",
   "nbconvert_exporter": "python",
   "pygments_lexer": "ipython3",
   "version": "3.10.9 (main, Dec 15 2022, 18:18:30) [Clang 14.0.0 (clang-1400.0.29.202)]"
  },
  "vscode": {
   "interpreter": {
    "hash": "aee8b7b246df8f9039afb4144a1f6fd8d2ca17a180786b69acc140d282b71a49"
   }
  }
 },
 "nbformat": 4,
 "nbformat_minor": 2
}
