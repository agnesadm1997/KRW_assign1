{
 "cells": [
  {
   "cell_type": "markdown",
   "metadata": {},
   "source": [
    "Imports"
   ]
  },
  {
   "cell_type": "code",
   "execution_count": 1,
   "metadata": {},
   "outputs": [
    {
     "name": "stderr",
     "output_type": "stream",
     "text": [
      "* Owlready2 * Warning: optimized Cython parser module 'owlready2_optimized' is not available, defaulting to slower Python implementation\n"
     ]
    }
   ],
   "source": [
    "import pandas as pd\n",
    "import numpy as np"
   ]
  },
  {
   "cell_type": "markdown",
   "metadata": {},
   "source": [
    "Loading the original data"
   ]
  },
  {
   "cell_type": "code",
   "execution_count": 2,
   "metadata": {},
   "outputs": [],
   "source": [
    "data_sideeffects = pd.read_excel(\"sider_output.xlsx\")\n",
    "data = pd.read_excel('opioids_data_original.xlsx')\n",
    "frequencies = pd.read_csv('meddra_freq.tsv', sep='\\t', header=None)"
   ]
  },
  {
   "cell_type": "markdown",
   "metadata": {},
   "source": [
    "Distribution of different outcome labels:"
   ]
  },
  {
   "cell_type": "code",
   "execution_count": 3,
   "metadata": {},
   "outputs": [
    {
     "data": {
      "text/plain": [
       "<Axes: >"
      ]
     },
     "execution_count": 3,
     "metadata": {},
     "output_type": "execute_result"
    },
    {
     "data": {
      "image/png": "[encoded data removed]",
      "text/plain": [
       "<Figure size 432x288 with 1 Axes>"
      ]
     },
     "metadata": {
      "needs_background": "light"
     },
     "output_type": "display_data"
    }
   ],
   "source": [
    "data.Outcome.value_counts().plot(kind='bar')"
   ]
  },
  {
   "cell_type": "code",
   "execution_count": 4,
   "metadata": {},
   "outputs": [
    {
     "data": {
      "text/plain": [
       "Recovered/resolved                    32.909681\n",
       "Unknown                               23.201731\n",
       "Not recovered/not resolved/ongoing    19.808004\n",
       "Recovering/resolving                  14.663332\n",
       "Outcome niet ingevuld                  6.280422\n",
       "Fatal                                  1.852353\n",
       "Recovered/resolved with sequelae       1.284478\n",
       "Name: Outcome, dtype: float64"
      ]
     },
     "execution_count": 4,
     "metadata": {},
     "output_type": "execute_result"
    }
   ],
   "source": [
    "data['Outcome'].value_counts(normalize=True) * 100"
   ]
  },
  {
   "cell_type": "markdown",
   "metadata": {},
   "source": [
    "Changing the 'Outcome' column values"
   ]
  },
  {
   "cell_type": "code",
   "execution_count": 5,
   "metadata": {},
   "outputs": [
    {
     "data": {
      "text/plain": [
       "<Axes: >"
      ]
     },
     "execution_count": 5,
     "metadata": {},
     "output_type": "execute_result"
    },
    {
     "data": {
      "image/png": "[encoded data removed]",
      "text/plain": [
       "<Figure size 432x288 with 1 Axes>"
      ]
     },
     "metadata": {
      "needs_background": "light"
     },
     "output_type": "display_data"
    }
   ],
   "source": [
    "data['Outcome'] = data['Outcome'].replace(['Outcome niet ingevuld', 'Recovered/resolved', 'Not recovered/not resolved/ongoing', 'Recovered/resolved with sequelae', 'Recovering/resolving'], ['Unknown', 'Recovered', 'Ongoing', 'Sequelae', 'Recovering'])\n",
    "data.Outcome.value_counts().plot(kind='bar')"
   ]
  },
  {
   "cell_type": "code",
   "execution_count": 6,
   "metadata": {},
   "outputs": [
    {
     "data": {
      "text/plain": [
       "Recovered     32.909681\n",
       "Unknown       29.482153\n",
       "Ongoing       19.808004\n",
       "Recovering    14.663332\n",
       "Fatal          1.852353\n",
       "Sequelae       1.284478\n",
       "Name: Outcome, dtype: float64"
      ]
     },
     "execution_count": 6,
     "metadata": {},
     "output_type": "execute_result"
    }
   ],
   "source": [
    "data['Outcome'].value_counts(normalize=True) * 100"
   ]
  },
  {
   "attachments": {},
   "cell_type": "markdown",
   "metadata": {},
   "source": [
    "Missing values"
   ]
  },
  {
   "cell_type": "code",
   "execution_count": 7,
   "metadata": {},
   "outputs": [
    {
     "data": {
      "text/plain": [
       "WorldwideUniqueCaseIdentification        0\n",
       "Status                                   0\n",
       "Category                             14792\n",
       "BodyWeight                            7165\n",
       "Height                                7477\n",
       "date_received                            0\n",
       "sex                                      0\n",
       "age_year                              2881\n",
       "Outcome                                  0\n",
       "OutcomeCodeSystemVersion             10003\n",
       "OutcomeText                          12925\n",
       "reaction_impact                      12153\n",
       "ATCText                                  0\n",
       "ATCode                                   0\n",
       "GenericDrugName                          0\n",
       "ID                                       0\n",
       "CultureID                                0\n",
       "LLTCode                                  0\n",
       "LLTName                                  0\n",
       "PTCode                                   0\n",
       "PTName                                   0\n",
       "HLTCode                                  0\n",
       "HLTName                                  0\n",
       "HLTGCode                                 0\n",
       "HLTGName                                 0\n",
       "SOCCode                                  0\n",
       "SOCName                                  0\n",
       "SOCAbbreviation                          0\n",
       "IsCurrent                                0\n",
       "IsDefaultSOC                             0\n",
       "Primary Source Description             561\n",
       "summary                               1413\n",
       "narrative                             1330\n",
       "dtype: int64"
      ]
     },
     "execution_count": 7,
     "metadata": {},
     "output_type": "execute_result"
    }
   ],
   "source": [
    "data.isna().sum()"
   ]
  },
  {
   "attachments": {},
   "cell_type": "markdown",
   "metadata": {},
   "source": [
    "Drop columns"
   ]
  },
  {
   "cell_type": "code",
   "execution_count": 8,
   "metadata": {},
   "outputs": [],
   "source": [
    "data = data.drop(columns=['Primary Source Description', 'Status', 'Category', 'OutcomeCodeSystemVersion', 'OutcomeText', 'CultureID', 'date_received', 'summary', 'narrative', 'IsCurrent', 'IsDefaultSOC'])"
   ]
  },
  {
   "attachments": {},
   "cell_type": "markdown",
   "metadata": {},
   "source": [
    "Remove outliers"
   ]
  },
  {
   "cell_type": "markdown",
   "metadata": {},
   "source": [
    "- Removal of instances with bodyweight == 0 \n",
    "- Removal of instances with height == 0"
   ]
  },
  {
   "cell_type": "code",
   "execution_count": 9,
   "metadata": {},
   "outputs": [],
   "source": [
    "data = data[data.BodyWeight != 0] \n",
    "data = data[data.Height != 0] "
   ]
  },
  {
   "attachments": {},
   "cell_type": "markdown",
   "metadata": {},
   "source": [
    "Renaming columns"
   ]
  },
  {
   "cell_type": "code",
   "execution_count": 10,
   "metadata": {},
   "outputs": [],
   "source": [
    "data['ATCText'].replace(['TRAMADOL MET PARACETAMOL', 'OXYCODON MET NALOXON', 'MORFINE, COMBINATIEPREPARATEN'], ['TRAMADOL', 'OXYCODON', 'MORFINE'], inplace=True)\n",
    "\n",
    "data['ATCode'].replace(['N02AJ13', 'N02AA51'], ['N02AX02', 'N02AA01'], inplace=True)\n",
    "\n",
    "data['ATCText'] = data['ATCText'].str.lower()"
   ]
  },
  {
   "attachments": {},
   "cell_type": "markdown",
   "metadata": {},
   "source": [
    "Replace all non-sense values with NaN"
   ]
  },
  {
   "cell_type": "code",
   "execution_count": 11,
   "metadata": {},
   "outputs": [],
   "source": [
    "symbols1 = [\"-\", \"_\", \"\\+\", \"\\?\", \"%\", \"\\*\", \"\\.\", \"\\,\", \"\\:\", \"\\;\", \"\\!\", \"\\@\", \"\\#\", \"\\$\", \"\\^\", \"\\&\", \"\\(\", \"\\)\", \"\\{\", \"\\}\", \"\\[\", \"\\]\", \"\\|\", \"\\/\", \"\\~\", \"\\`\", \"\\=\", \"\\<\", \"\\>\", \" \"]\n",
    "\n",
    "for i in symbols1:\n",
    "    data = data.replace(i, \"\", regex = True)\n",
    "    data_sideeffects = data_sideeffects.replace(i, \"\", regex = True)"
   ]
  },
  {
   "attachments": {},
   "cell_type": "markdown",
   "metadata": {},
   "source": [
    "Replace nan strings with NaN"
   ]
  },
  {
   "cell_type": "code",
   "execution_count": 12,
   "metadata": {},
   "outputs": [],
   "source": [
    "symbols2 = [\"NAN\", \"NaN\", \"None\", \"NaT\", \"NAT\", \"nat\", \"n/a\", \"N/A\", \"n/a\", \"N/A\", \"n.a.\", \"N.A.\", \" \"]\n",
    "\n",
    "for i in symbols2:\n",
    "    \n",
    "    # replace symbol in string with \"\", bit not the whole string\n",
    "    data = data.replace(rf'\\b{i}\\b', np.nan, regex = True)\n",
    "    data_sideeffects = data_sideeffects.replace(rf'\\b{i}\\b', np.nan, regex = True)"
   ]
  },
  {
   "attachments": {},
   "cell_type": "markdown",
   "metadata": {},
   "source": [
    "Merging"
   ]
  },
  {
   "cell_type": "code",
   "execution_count": 13,
   "metadata": {},
   "outputs": [],
   "source": [
    "data = data.merge(data_sideeffects[['ATCode', 'ATCText', 'PTCode', 'Side effect', 'Frequency']], how='left', on=['ATCode', 'ATCText', 'PTCode'])"
   ]
  },
  {
   "cell_type": "markdown",
   "metadata": {},
   "source": [
    "The 'reaction_impact' column presumably measures the impact the medicine has had on the patient. As shown before, there is no reaction_impact for fatalities. \n",
    "We can impute the missing values by taking the average of a patient with similar features. \n",
    "\n",
    "To make this easier, we'll first create a column to bin the ages. We'll also create a BMI column and a weight group column."
   ]
  },
  {
   "cell_type": "code",
   "execution_count": 14,
   "metadata": {},
   "outputs": [],
   "source": [
    "data['age_group'] = pd.cut(x=data['age_year'], bins=[18, 24, 44, 64, 90])\n",
    "data['BMI'] = data['BodyWeight'] / (data['Height']/100)**2\n",
    "data['weight_group'] = pd.cut(x=data['BMI'], bins=[0, 18.5, 25, 30, 50], labels=['underweight', 'normal', 'overweight', 'obese'])\n",
    "data['WorldwideUniqueCaseIdentification'] = data['WorldwideUniqueCaseIdentification'].str.replace(\" \", \"\")\n",
    "data['age_group'] = data['age_group'].astype(str)\n",
    "data['PTCode'] = data['PTCode'].astype(str)"
   ]
  },
  {
   "attachments": {},
   "cell_type": "markdown",
   "metadata": {},
   "source": [
    "Imputing missing values"
   ]
  },
  {
   "cell_type": "code",
   "execution_count": 15,
   "metadata": {},
   "outputs": [],
   "source": [
    "data['Frequency'] = data['Frequency'] * 100\n",
    "data['Frequency'] = data['Frequency'].replace(0.0, 0.0001)\n",
    "data['Frequency'] = data['Frequency'].fillna(0.0)\n",
    "data['is_sideeffect'] = data['Side effect'].notna()"
   ]
  },
  {
   "cell_type": "code",
   "execution_count": 16,
   "metadata": {},
   "outputs": [
    {
     "data": {
      "text/plain": [
       "Index(['WorldwideUniqueCaseIdentification', 'BodyWeight', 'Height', 'sex',\n",
       "       'age_year', 'Outcome', 'reaction_impact', 'ATCText', 'ATCode',\n",
       "       'GenericDrugName', 'ID', 'LLTCode', 'LLTName', 'PTCode', 'PTName',\n",
       "       'HLTCode', 'HLTName', 'HLTGCode', 'HLTGName', 'SOCCode', 'SOCName',\n",
       "       'SOCAbbreviation', 'Side effect', 'Frequency', 'age_group', 'BMI',\n",
       "       'weight_group', 'is_sideeffect'],\n",
       "      dtype='object')"
      ]
     },
     "execution_count": 16,
     "metadata": {},
     "output_type": "execute_result"
    }
   ],
   "source": [
    "data.reset_index(drop=True)\n",
    "data.columns"
   ]
  },
  {
   "attachments": {},
   "cell_type": "markdown",
   "metadata": {},
   "source": [
    "Split the column generic drugname into two columns: type and dosage"
   ]
  },
  {
   "cell_type": "code",
   "execution_count": 17,
   "metadata": {},
   "outputs": [],
   "source": [
    "gdn = list(data['GenericDrugName'].str.split(' ', expand=True).stack().unique())\n",
    "type = ['CAPSULE', 'NEUSSPRAY', 'TABLET', 'PLEISTER', 'INJVLST', 'ZETPIL', 'DRANK', 'SPRAY', 'ZUIGTABLET', 'BRUISTABLET', 'INJ/INFOPL', 'INFVLST', 'DRUPPELS', 'SMELTTABLET', 'INJECTIE/INFUUS', 'DISPERTABLET', 'TAB', 'INJECTIEPOEDER']\n",
    "dosage = []\n",
    "\n",
    "def has_numbers(inputString):\n",
    "    return bool(re.search(r'\\d', inputString))\n",
    "\n",
    "for i in gdn:\n",
    "    if has_numbers(i):\n",
    "        dosage.append(i)\n",
    "\n",
    "data['Type'] = data['GenericDrugName'].apply(lambda x : ''.join([k for k in str(x).split() if k in type]))\n",
    "data['Dosage'] = data['GenericDrugName'].apply(lambda x : ''.join([k for k in str(x).split() if k in dosage]))"
   ]
  },
  {
   "cell_type": "code",
   "execution_count": 18,
   "metadata": {},
   "outputs": [],
   "source": [
    "data = data.reset_index(drop=True)"
   ]
  },
  {
   "cell_type": "code",
   "execution_count": 19,
   "metadata": {},
   "outputs": [
    {
     "data": {
      "text/plain": [
       "WorldwideUniqueCaseIdentification        0\n",
       "BodyWeight                            7165\n",
       "Height                                7477\n",
       "sex                                      0\n",
       "age_year                              2879\n",
       "Outcome                                  0\n",
       "reaction_impact                      12011\n",
       "ATCText                                  0\n",
       "ATCode                                   0\n",
       "GenericDrugName                          0\n",
       "ID                                       0\n",
       "LLTCode                                  0\n",
       "LLTName                                  0\n",
       "PTCode                                   0\n",
       "PTName                                   0\n",
       "HLTCode                                  0\n",
       "HLTName                                  0\n",
       "HLTGCode                                 0\n",
       "HLTGName                                 0\n",
       "SOCCode                                  0\n",
       "SOCName                                  0\n",
       "SOCAbbreviation                          0\n",
       "Side effect                           8555\n",
       "Frequency                                0\n",
       "age_group                             3286\n",
       "BMI                                   7539\n",
       "weight_group                          7646\n",
       "is_sideeffect                            0\n",
       "Type                                     0\n",
       "Dosage                                   0\n",
       "dtype: int64"
      ]
     },
     "execution_count": 19,
     "metadata": {},
     "output_type": "execute_result"
    }
   ],
   "source": [
    "data.isna().sum()"
   ]
  },
  {
   "cell_type": "code",
   "execution_count": 20,
   "metadata": {},
   "outputs": [],
   "source": [
    "data.to_excel(\"opioid_datamerged.xlsx\") "
   ]
  }
 ],
 "metadata": {
  "kernelspec": {
   "display_name": "Python 3.9.7 ('base')",
   "language": "python",
   "name": "python3"
  },
  "language_info": {
   "codemirror_mode": {
    "name": "ipython",
    "version": 3
   },
   "file_extension": ".py",
   "mimetype": "text/x-python",
   "name": "python",
   "nbconvert_exporter": "python",
   "pygments_lexer": "ipython3",
   "version": "3.8.8"
  },
  "orig_nbformat": 4,
  "vscode": {
   "interpreter": {
    "hash": "40d3a090f54c6569ab1632332b64b2c03c39dcf918b08424e98f38b5ae0af88f"
   }
  }
 },
 "nbformat": 4,
 "nbformat_minor": 2
}
